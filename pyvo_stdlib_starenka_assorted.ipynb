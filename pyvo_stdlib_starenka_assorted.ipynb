{
 "cells": [
  {
   "cell_type": "markdown",
   "metadata": {},
   "source": [
    "# difflib\n",
    "\n",
    "[doc](https://docs.python.org/3/library/difflib.html#module-difflib)"
   ]
  },
  {
   "cell_type": "code",
   "execution_count": 1,
   "metadata": {},
   "outputs": [
    {
     "data": {
      "text/plain": [
       "0.5714285714285714"
      ]
     },
     "execution_count": 1,
     "metadata": {},
     "output_type": "execute_result"
    }
   ],
   "source": [
    "import difflib\n",
    "\n",
    "s1, s2 = 'Miloš Zeman', 'Malej Eman'\n",
    "difflib.SequenceMatcher(None, s1, s2).ratio() #maybe you don't need levensthein, jaro-winkler et al."
   ]
  },
  {
   "cell_type": "code",
   "execution_count": 2,
   "metadata": {},
   "outputs": [
    {
     "data": {
      "text/plain": [
       "Match(a=8, b=7, size=3)"
      ]
     },
     "execution_count": 2,
     "metadata": {},
     "output_type": "execute_result"
    }
   ],
   "source": [
    "difflib.SequenceMatcher(None, s1, s2).find_longest_match(0,len(s1), 0, len(s2))"
   ]
  },
  {
   "cell_type": "code",
   "execution_count": 3,
   "metadata": {},
   "outputs": [
    {
     "name": "stdout",
     "output_type": "stream",
     "text": [
      "M M\n",
      "l l\n",
      "e e\n",
      "man man\n",
      " \n"
     ]
    }
   ],
   "source": [
    "for m in difflib.SequenceMatcher(lambda x:x==' ', s1, s2).get_matching_blocks():\n",
    "    print(s1[m.a:m.a+m.size], s2[m.b:m.b+m.size])\n"
   ]
  },
  {
   "cell_type": "markdown",
   "metadata": {},
   "source": [
    "# tempfile"
   ]
  },
  {
   "cell_type": "code",
   "execution_count": 4,
   "metadata": {},
   "outputs": [
    {
     "name": "stdout",
     "output_type": "stream",
     "text": [
      "58\n"
     ]
    }
   ],
   "source": [
    "import tempfile, shutil, os\n",
    "\n",
    "#temp \"file-like obj\"\n",
    "with tempfile.TemporaryFile('w+t') as tmp:\n",
    "    tmp.write('pyvo!')\n",
    "    print(tmp.name)"
   ]
  },
  {
   "cell_type": "code",
   "execution_count": 5,
   "metadata": {},
   "outputs": [
    {
     "name": "stdout",
     "output_type": "stream",
     "text": [
      "/tmp/tmpqzdphqyw\n",
      "False\n"
     ]
    }
   ],
   "source": [
    "#temp file\n",
    "with tempfile.NamedTemporaryFile() as tmp2:\n",
    "    tmp2.write(b'dve piva')\n",
    "    print(tmp2.name)\n",
    "    \n",
    "print(os.path.exists(tmp2.name))"
   ]
  },
  {
   "cell_type": "code",
   "execution_count": 6,
   "metadata": {},
   "outputs": [
    {
     "name": "stdout",
     "output_type": "stream",
     "text": [
      "/tmp/tmpxb6voltw\n"
     ]
    }
   ],
   "source": [
    "#temp dir\n",
    "tmp_dir = tempfile.mkdtemp()\n",
    "print(tmp_dir)\n",
    "shutil.rmtree(tmp_dir) # :("
   ]
  },
  {
   "cell_type": "code",
   "execution_count": 7,
   "metadata": {},
   "outputs": [
    {
     "name": "stdout",
     "output_type": "stream",
     "text": [
      "['tmpgrj3ivk_', 'tmpv7mxcvlx']\n",
      "False\n"
     ]
    }
   ],
   "source": [
    "#temp auto destruct dir\n",
    "with tempfile.TemporaryDirectory() as tmp_dir2:\n",
    "    f1, f2 = tempfile.NamedTemporaryFile(dir=tmp_dir2), tempfile.NamedTemporaryFile(dir=tmp_dir2)\n",
    "    f1.write(b'mrkev')\n",
    "    f1.write(b'klobasa')\n",
    "    print(os.listdir(tmp_dir2))\n",
    "print(os.path.exists(tmp_dir2))"
   ]
  },
  {
   "cell_type": "markdown",
   "metadata": {},
   "source": [
    "# inspect\n",
    "\n",
    "\"The inspect module provides several useful functions to help get information about live objects such as modules, classes, methods, functions, tracebacks, frame objects, and code objects.\"\n",
    "\n",
    "[doc](https://docs.python.org/3/library/inspect.html)\n",
    "\n",
    "my usage: \n",
    " - poor man's \"production debugger\"\n",
    " - expose particular functions as cmd choices"
   ]
  },
  {
   "cell_type": "code",
   "execution_count": 8,
   "metadata": {},
   "outputs": [],
   "source": [
    "import inspect\n",
    "\n",
    "def say_ni(times=3):\n",
    "    print('NI!'%times)"
   ]
  },
  {
   "cell_type": "code",
   "execution_count": 9,
   "metadata": {},
   "outputs": [
    {
     "data": {
      "text/plain": [
       "\"def say_ni(times=3):\\n    print('NI!'%times)\\n\""
      ]
     },
     "execution_count": 9,
     "metadata": {},
     "output_type": "execute_result"
    }
   ],
   "source": [
    "inspect.getsource(say_ni)"
   ]
  },
  {
   "cell_type": "code",
   "execution_count": 10,
   "metadata": {},
   "outputs": [
    {
     "data": {
      "text/plain": [
       "'<ipython-input-8-2f00b2bf0675>'"
      ]
     },
     "execution_count": 10,
     "metadata": {},
     "output_type": "execute_result"
    }
   ],
   "source": [
    "inspect.getfile(say_ni)"
   ]
  },
  {
   "cell_type": "code",
   "execution_count": 11,
   "metadata": {},
   "outputs": [
    {
     "data": {
      "text/plain": [
       "mappingproxy({'times': <Parameter \"times=3\">})"
      ]
     },
     "execution_count": 11,
     "metadata": {},
     "output_type": "execute_result"
    }
   ],
   "source": [
    "inspect.signature(say_ni).parameters"
   ]
  },
  {
   "cell_type": "code",
   "execution_count": 12,
   "metadata": {},
   "outputs": [
    {
     "data": {
      "text/plain": [
       "[('abc', <module 'abc' from '/usr/lib/python3.6/abc.py'>),\n",
       " ('errno', <module 'errno' (built-in)>),\n",
       " ('path', <module 'posixpath' from '/usr/lib/python3.6/posixpath.py'>),\n",
       " ('st', <module 'stat' from '/usr/lib/python3.6/stat.py'>),\n",
       " ('sys', <module 'sys' (built-in)>)]"
      ]
     },
     "execution_count": 12,
     "metadata": {},
     "output_type": "execute_result"
    }
   ],
   "source": [
    "import os\n",
    "\n",
    "inspect.getmembers(os, inspect.ismodule)"
   ]
  },
  {
   "cell_type": "code",
   "execution_count": 13,
   "metadata": {},
   "outputs": [
    {
     "data": {
      "text/plain": [
       "[('st', <module 'stat' from '/usr/lib/python3.6/stat.py'>),\n",
       " ('sys', <module 'sys' (built-in)>)]"
      ]
     },
     "execution_count": 13,
     "metadata": {},
     "output_type": "execute_result"
    }
   ],
   "source": [
    "inspect.getmembers(os, lambda x: inspect.ismodule(x) and x.__name__.startswith('s'))"
   ]
  },
  {
   "cell_type": "markdown",
   "metadata": {},
   "source": [
    "# operator\n",
    "\n",
    "- attrgetter, itemgetter, methodcaller\n",
    "- operators :)"
   ]
  },
  {
   "cell_type": "code",
   "execution_count": 14,
   "metadata": {},
   "outputs": [
    {
     "data": {
      "text/plain": [
       "[1, 1, 1, 1, 1, 1, 1, 1, 1, 1, 1, 1, 1, 1, 1, 1, 1, 1, 1, 1]"
      ]
     },
     "execution_count": 14,
     "metadata": {},
     "output_type": "execute_result"
    }
   ],
   "source": [
    "import operator, collections, random\n",
    "\n",
    "t = collections.namedtuple('A', 'b')\n",
    "\n",
    "list(map(operator.attrgetter('b'), [t(b=1)]*20)) #list(map(lambda x: getattr(x, 'b'), [t(b=1)]*20))"
   ]
  },
  {
   "cell_type": "code",
   "execution_count": 15,
   "metadata": {},
   "outputs": [
    {
     "data": {
      "text/plain": [
       "[5, 5, 5, 5, 5, 5, 5, 5, 5, 5, 5, 5, 5, 5, 5, 5, 5, 5, 5, 5]"
      ]
     },
     "execution_count": 15,
     "metadata": {},
     "output_type": "execute_result"
    }
   ],
   "source": [
    "list(map(operator.itemgetter(5), [range(10)]*20)) #list(map(lambda x: x[5], [t(b=1)]*20))"
   ]
  },
  {
   "cell_type": "code",
   "execution_count": 16,
   "metadata": {},
   "outputs": [
    {
     "data": {
      "text/plain": [
       "['abcd']"
      ]
     },
     "execution_count": 16,
     "metadata": {},
     "output_type": "execute_result"
    }
   ],
   "source": [
    "def my_filter(items, predicate): \n",
    "    return filter(predicate, items)\n",
    "\n",
    "list(my_filter(['abcd', 'cdef', 'zaza'], operator.methodcaller('startswith', 'a'))) # getattr()(*args)"
   ]
  },
  {
   "cell_type": "code",
   "execution_count": 17,
   "metadata": {},
   "outputs": [
    {
     "name": "stdout",
     "output_type": "stream",
     "text": [
      "True\n",
      "False\n",
      "True\n"
     ]
    }
   ],
   "source": [
    "import operator, re\n",
    "\n",
    "def check_ver(predicates, version):\n",
    "    OP_MAP = {'==': operator.eq, '<': operator.lt, '>': operator.gt, '<=': operator.le, '>=': operator.ge}\n",
    "    RE_PREDICATE = r'(?P<what>.*)\\s?(?P<op>==|<|>|<=|>={1,2})\\s?(?P<version>[\\d\\.]+);?'\n",
    "    rules = [m.groupdict() for m in re.finditer(RE_PREDICATE, predicates)]\n",
    "    \n",
    "    return all([OP_MAP[r['op']](version, float(r['version'])) for r in rules])\n",
    "\n",
    "print(check_ver('x==2.7', 2.7))\n",
    "print(check_ver('x>=2;x<3', 3.6))\n",
    "print(check_ver('x>=2;x<3', 2.7))"
   ]
  },
  {
   "cell_type": "markdown",
   "metadata": {},
   "source": [
    "# webbrowser\n",
    "\n",
    "basically spawns a browser with given url (also local file)"
   ]
  },
  {
   "cell_type": "code",
   "execution_count": 18,
   "metadata": {},
   "outputs": [
    {
     "data": {
      "text/plain": [
       "True"
      ]
     },
     "execution_count": 18,
     "metadata": {},
     "output_type": "execute_result"
    }
   ],
   "source": [
    "import webbrowser, io\n",
    "\n",
    "html = io.open('/tmp/meh.html', 'w+t')\n",
    "html.write('<marquee><h1>Batteries included</h1></marquee>')\n",
    "html.close()\n",
    "webbrowser.open(html.name)"
   ]
  },
  {
   "cell_type": "markdown",
   "metadata": {},
   "source": [
    "# audioop, wave"
   ]
  },
  {
   "cell_type": "code",
   "execution_count": 19,
   "metadata": {},
   "outputs": [
    {
     "data": {
      "text/plain": [
       "True"
      ]
     },
     "execution_count": 19,
     "metadata": {},
     "output_type": "execute_result"
    }
   ],
   "source": [
    "import audioop, wave, io, webbrowser, tempfile\n",
    "\n",
    "berry = './berries.wav' #http://www.dailywav.com/quotes/monty-python-and-holy-grail/your-father-smelt-elderberries\n",
    "webbrowser.open(os.path.abspath(berry))"
   ]
  },
  {
   "cell_type": "code",
   "execution_count": 20,
   "metadata": {},
   "outputs": [
    {
     "name": "stdout",
     "output_type": "stream",
     "text": [
      "channels:  1\n",
      "compressed?:  not compressed\n",
      "rate [Hz]:  11025\n"
     ]
    }
   ],
   "source": [
    "af = wave.open(berry)\n",
    "print('channels: ', af.getnchannels())\n",
    "print('compressed?: ', af.getcompname())\n",
    "print('rate [Hz]: ', af.getframerate())"
   ]
  },
  {
   "cell_type": "code",
   "execution_count": 21,
   "metadata": {},
   "outputs": [
    {
     "data": {
      "text/plain": [
       "True"
      ]
     },
     "execution_count": 21,
     "metadata": {},
     "output_type": "execute_result"
    }
   ],
   "source": [
    "af = wave.open(berry)\n",
    "out = io.open('/tmp/raf.wav', 'wb')\n",
    "raf = wave.open(out)\n",
    "raf.setparams((af.getnchannels(), af.getsampwidth(), af.getframerate(), '', af.getcomptype(), af.getcompname()))\n",
    "rev = audioop.reverse(af.readframes(af.getnframes()), af.getnchannels())\n",
    "raf.writeframesraw(rev)\n",
    "webbrowser.open(out.name)"
   ]
  },
  {
   "cell_type": "code",
   "execution_count": null,
   "metadata": {},
   "outputs": [],
   "source": []
  }
 ],
 "metadata": {
  "kernelspec": {
   "display_name": "Python 3",
   "language": "python",
   "name": "python3"
  },
  "language_info": {
   "codemirror_mode": {
    "name": "ipython",
    "version": 3
   },
   "file_extension": ".py",
   "mimetype": "text/x-python",
   "name": "python",
   "nbconvert_exporter": "python",
   "pygments_lexer": "ipython3",
   "version": "3.6.6rc1"
  }
 },
 "nbformat": 4,
 "nbformat_minor": 2
}
