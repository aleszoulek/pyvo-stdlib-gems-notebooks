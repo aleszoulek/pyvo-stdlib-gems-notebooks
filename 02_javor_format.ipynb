{
 "cells": [
  {
   "cell_type": "markdown",
   "metadata": {},
   "source": [
    "# String Formatting\n",
    "[Honza Javorek](http://honzajavorek.cz/) ・ [Pyvo](https://pyvo.cz/praha-pyvo/2018-06/) ・ [slides](https://speakerdeck.com/honzajavorek/pyvo-lt)"
   ]
  },
  {
   "cell_type": "markdown",
   "metadata": {},
   "source": [
    "## why?"
   ]
  },
  {
   "cell_type": "code",
   "execution_count": null,
   "metadata": {},
   "outputs": [],
   "source": [
    "print('Hello Honza!')"
   ]
  },
  {
   "cell_type": "code",
   "execution_count": 3,
   "metadata": {},
   "outputs": [
    {
     "name": "stdout",
     "output_type": "stream",
     "text": [
      "Name: Franta\n"
     ]
    }
   ],
   "source": [
    "name = input('Name: ')"
   ]
  },
  {
   "cell_type": "markdown",
   "metadata": {},
   "source": [
    "## plus"
   ]
  },
  {
   "cell_type": "code",
   "execution_count": 6,
   "metadata": {},
   "outputs": [
    {
     "name": "stdout",
     "output_type": "stream",
     "text": [
      "Hello Franta!\n"
     ]
    }
   ],
   "source": [
    "print('Hello ' + name + '!')"
   ]
  },
  {
   "cell_type": "code",
   "execution_count": 7,
   "metadata": {},
   "outputs": [
    {
     "ename": "TypeError",
     "evalue": "must be str, not int",
     "output_type": "error",
     "traceback": [
      "\u001b[0;31m---------------------------------------------------------------------------\u001b[0m",
      "\u001b[0;31mTypeError\u001b[0m                                 Traceback (most recent call last)",
      "\u001b[0;32m<ipython-input-7-132fb4896beb>\u001b[0m in \u001b[0;36m<module>\u001b[0;34m()\u001b[0m\n\u001b[1;32m      1\u001b[0m \u001b[0myear\u001b[0m \u001b[0;34m=\u001b[0m \u001b[0;36m2018\u001b[0m\u001b[0;34m\u001b[0m\u001b[0m\n\u001b[0;32m----> 2\u001b[0;31m \u001b[0mprint\u001b[0m\u001b[0;34m(\u001b[0m\u001b[0;34m'Happy '\u001b[0m \u001b[0;34m+\u001b[0m \u001b[0myear\u001b[0m \u001b[0;34m+\u001b[0m \u001b[0;34m'!'\u001b[0m\u001b[0;34m)\u001b[0m\u001b[0;34m\u001b[0m\u001b[0m\n\u001b[0m",
      "\u001b[0;31mTypeError\u001b[0m: must be str, not int"
     ]
    }
   ],
   "source": [
    "year = 2018\n",
    "\n",
    "print('Happy ' + year + '!')"
   ]
  },
  {
   "cell_type": "code",
   "execution_count": 8,
   "metadata": {},
   "outputs": [
    {
     "name": "stdout",
     "output_type": "stream",
     "text": [
      "Happy 2018!\n"
     ]
    }
   ],
   "source": [
    "print('Happy ' + str(year) + '!')"
   ]
  },
  {
   "cell_type": "markdown",
   "metadata": {},
   "source": [
    "## print() ・ [docs](https://docs.python.org/3/library/functions.html#print)"
   ]
  },
  {
   "cell_type": "code",
   "execution_count": 4,
   "metadata": {},
   "outputs": [
    {
     "name": "stdout",
     "output_type": "stream",
     "text": [
      "Hello Franta!\n"
     ]
    }
   ],
   "source": [
    "print('Hello ', end='')\n",
    "print(name, end='')\n",
    "print('!')"
   ]
  },
  {
   "cell_type": "markdown",
   "metadata": {},
   "source": [
    "## oppa printf style ・ [docs](https://docs.python.org/3/library/stdtypes.html#printf-style-string-formatting)"
   ]
  },
  {
   "cell_type": "code",
   "execution_count": 14,
   "metadata": {},
   "outputs": [
    {
     "name": "stdout",
     "output_type": "stream",
     "text": [
      "Happy new year 2018!\n"
     ]
    }
   ],
   "source": [
    "print('Happy new year %s!' % (year,))  # %s is like str(year)"
   ]
  },
  {
   "cell_type": "code",
   "execution_count": 11,
   "metadata": {
    "scrolled": true
   },
   "outputs": [
    {
     "name": "stdout",
     "output_type": "stream",
     "text": [
      "Happy new year 2018!\n"
     ]
    }
   ],
   "source": [
    "print('Happy new year %d!' % (year,))  # %d is like str(int(year))"
   ]
  },
  {
   "cell_type": "code",
   "execution_count": 16,
   "metadata": {},
   "outputs": [
    {
     "name": "stdout",
     "output_type": "stream",
     "text": [
      "There are 3 dogs (in fact 3.14)\n"
     ]
    }
   ],
   "source": [
    "number = 3.14\n",
    "\n",
    "print('There are %d dogs (in fact %s)' % (number, number))"
   ]
  },
  {
   "cell_type": "code",
   "execution_count": 20,
   "metadata": {},
   "outputs": [
    {
     "name": "stdout",
     "output_type": "stream",
     "text": [
      "      3.14\n",
      "   3.14159\n",
      "     3.141\n"
     ]
    }
   ],
   "source": [
    "print('%10s' % (3.14,))\n",
    "print('%10s' % (3.14159,))\n",
    "print('%10s' % (3.141,))"
   ]
  },
  {
   "cell_type": "markdown",
   "metadata": {},
   "source": [
    "## format() ・ [docs](https://docs.python.org/3/library/stdtypes.html#str.format)"
   ]
  },
  {
   "cell_type": "code",
   "execution_count": 21,
   "metadata": {},
   "outputs": [
    {
     "name": "stdout",
     "output_type": "stream",
     "text": [
      "Hello Franta\n"
     ]
    }
   ],
   "source": [
    "print('Hello {0}'.format(name))"
   ]
  },
  {
   "cell_type": "code",
   "execution_count": 22,
   "metadata": {},
   "outputs": [
    {
     "name": "stdout",
     "output_type": "stream",
     "text": [
      "Hello Franta! My friend is also Franta. What a coincidence!\n"
     ]
    }
   ],
   "source": [
    "print('Hello {0}! My friend is also {0}. What a coincidence!'.format(name, name))"
   ]
  },
  {
   "cell_type": "code",
   "execution_count": 23,
   "metadata": {},
   "outputs": [
    {
     "name": "stdout",
     "output_type": "stream",
     "text": [
      "Hello Franta! Happy new year 2018!\n"
     ]
    }
   ],
   "source": [
    "print('Hello {}! Happy new year {}!'.format(name, year))"
   ]
  },
  {
   "cell_type": "code",
   "execution_count": 24,
   "metadata": {},
   "outputs": [
    {
     "name": "stdout",
     "output_type": "stream",
     "text": [
      "      3.14\n",
      "   3.14159\n",
      "     3.141\n"
     ]
    }
   ],
   "source": [
    "print('{:>10}'.format(3.14))\n",
    "print('{:>10}'.format(3.14159))\n",
    "print('{:>10}'.format(3.141))"
   ]
  },
  {
   "cell_type": "code",
   "execution_count": 30,
   "metadata": {},
   "outputs": [
    {
     "name": "stdout",
     "output_type": "stream",
     "text": [
      "Hello Franta Florian!\n"
     ]
    }
   ],
   "source": [
    "print('Hello {first} {last}!'.format(first=name, last='Florian'))"
   ]
  },
  {
   "cell_type": "code",
   "execution_count": 33,
   "metadata": {},
   "outputs": [
    {
     "name": "stdout",
     "output_type": "stream",
     "text": [
      "Hello Franta Florian!\n"
     ]
    }
   ],
   "source": [
    "names = {'first': name, 'last': 'Florian'}\n",
    "\n",
    "print('Hello {first} {last}!'.format(**names))"
   ]
  },
  {
   "cell_type": "code",
   "execution_count": 35,
   "metadata": {},
   "outputs": [
    {
     "name": "stdout",
     "output_type": "stream",
     "text": [
      "Hello Franta Florian\n"
     ]
    }
   ],
   "source": [
    "print('Hello {names[first]} {names[last]}'.format(names=names))"
   ]
  },
  {
   "cell_type": "code",
   "execution_count": 40,
   "metadata": {},
   "outputs": [
    {
     "name": "stdout",
     "output_type": "stream",
     "text": [
      "Hello Anezka Barbora Cecil Dominik\n"
     ]
    }
   ],
   "source": [
    "friends = ['Anezka', 'Barbora', 'Cecil', 'Dominik']\n",
    "\n",
    "print('Hello {friends[0]} {friends[1]} {friends[2]} {friends[3]}'.format(friends=friends))"
   ]
  },
  {
   "cell_type": "code",
   "execution_count": 41,
   "metadata": {},
   "outputs": [
    {
     "name": "stdout",
     "output_type": "stream",
     "text": [
      "It's 2018-06-20 16:06\n"
     ]
    }
   ],
   "source": [
    "from datetime import datetime\n",
    "now = datetime.now()\n",
    "\n",
    "print(\"It's {:%Y-%m-%d %H:%M}\".format(now))"
   ]
  },
  {
   "cell_type": "markdown",
   "metadata": {},
   "source": [
    "## ...and much more!\n",
    "# learn all the tricks at [pyformat.info](http://pyformat.info)!\n",
    "\n",
    "----"
   ]
  },
  {
   "cell_type": "code",
   "execution_count": 43,
   "metadata": {},
   "outputs": [
    {
     "name": "stdout",
     "output_type": "stream",
     "text": [
      "Let's meet at Ostrovskeho 38a (if you need GPS, it's 50.0678996;14.3953814).\n"
     ]
    }
   ],
   "source": [
    "address = {\n",
    "    'street': 'Ostrovskeho',\n",
    "    'no': '38a',\n",
    "}\n",
    "coords = [50.0678996, 14.3953814]\n",
    "\n",
    "print(\"Let's meet at {address[street]} {address[no]} (if you need GPS, it's {coords[0]};{coords[1]}).\".format(address=address, coords=coords))"
   ]
  },
  {
   "cell_type": "code",
   "execution_count": 45,
   "metadata": {},
   "outputs": [
    {
     "name": "stdout",
     "output_type": "stream",
     "text": [
      "Let's meet at Ostrovskeho 38a (if you need GPS, it's 50.0678996;14.3953814).\n"
     ]
    }
   ],
   "source": [
    "print(\"Let's meet at {address[street]} {address[no]} (if you need GPS, it's {coords[0]};{coords[1]}).\".format(\n",
    "    address=address,\n",
    "    coords=coords\n",
    "))"
   ]
  },
  {
   "cell_type": "code",
   "execution_count": 46,
   "metadata": {},
   "outputs": [
    {
     "name": "stdout",
     "output_type": "stream",
     "text": [
      "Let's meet at Ostrovskeho 38a (if you need GPS, it's 50.0678996;14.3953814).\n"
     ]
    }
   ],
   "source": [
    "print((\n",
    "    \"Let's meet at {address[street]} {address[no]} \"\n",
    "    \"(if you need GPS, it's {coords[0]};{coords[1]}).\"\n",
    ").format(\n",
    "    address=address,\n",
    "    coords=coords\n",
    "))"
   ]
  },
  {
   "cell_type": "markdown",
   "metadata": {},
   "source": [
    "## fffffuuuuuuuuuuu!!*&%$%^&*"
   ]
  },
  {
   "cell_type": "markdown",
   "metadata": {},
   "source": [
    "..."
   ]
  },
  {
   "cell_type": "markdown",
   "metadata": {},
   "source": [
    "## f strings ・ [docs](https://docs.python.org/3/reference/lexical_analysis.html#f-strings)"
   ]
  },
  {
   "cell_type": "code",
   "execution_count": 49,
   "metadata": {},
   "outputs": [
    {
     "name": "stdout",
     "output_type": "stream",
     "text": [
      "Hello Franta!\n",
      "Happy new year 2018!\n"
     ]
    }
   ],
   "source": [
    "print(f'Hello {name}!')\n",
    "print(f'Happy new year {year}!')"
   ]
  },
  {
   "cell_type": "code",
   "execution_count": 50,
   "metadata": {},
   "outputs": [
    {
     "name": "stdout",
     "output_type": "stream",
     "text": [
      "Hello FRANTA!\n",
      "Happy new year 2019!\n"
     ]
    }
   ],
   "source": [
    "print(f'Hello {name.upper()}!')\n",
    "print(f'Happy new year {year + 1}!')"
   ]
  },
  {
   "cell_type": "code",
   "execution_count": 51,
   "metadata": {},
   "outputs": [
    {
     "name": "stdout",
     "output_type": "stream",
     "text": [
      "KONEC\n"
     ]
    }
   ],
   "source": [
    "theend = {\n",
    "    'cs': 'konec',\n",
    "    'fr': 'el fin',\n",
    "    'en': 'the end',\n",
    "}\n",
    "\n",
    "print(f\"{theend['cs'].upper()}\")"
   ]
  },
  {
   "cell_type": "code",
   "execution_count": null,
   "metadata": {},
   "outputs": [],
   "source": []
  }
 ],
 "metadata": {
  "kernelspec": {
   "display_name": "Python 3",
   "language": "python",
   "name": "python3"
  },
  "language_info": {
   "codemirror_mode": {
    "name": "ipython",
    "version": 3
   },
   "file_extension": ".py",
   "mimetype": "text/x-python",
   "name": "python",
   "nbconvert_exporter": "python",
   "pygments_lexer": "ipython3",
   "version": "3.6.5"
  }
 },
 "nbformat": 4,
 "nbformat_minor": 2
}
