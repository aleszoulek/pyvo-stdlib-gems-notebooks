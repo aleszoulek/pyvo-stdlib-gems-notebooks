{
 "cells": [
  {
   "cell_type": "code",
   "execution_count": null,
   "metadata": {},
   "outputs": [],
   "source": [
    "import time\n",
    "import functools\n",
    "import warnings"
   ]
  },
  {
   "cell_type": "markdown",
   "metadata": {},
   "source": [
    "# Our function"
   ]
  },
  {
   "cell_type": "code",
   "execution_count": null,
   "metadata": {},
   "outputs": [],
   "source": [
    "def awesome_func(foo, bar, async=False):\n",
    "    \"\"\"Our awesome function that is part of our API.\"\"\"\n",
    "    time.sleep(5)\n",
    "    return f'{foo}, {bar}, {async}'"
   ]
  },
  {
   "cell_type": "code",
   "execution_count": null,
   "metadata": {},
   "outputs": [],
   "source": [
    "awesome_func(1, 2, async=True)"
   ]
  },
  {
   "cell_type": "markdown",
   "metadata": {},
   "source": [
    "# Better decorators with @functools.wraps"
   ]
  },
  {
   "cell_type": "code",
   "execution_count": null,
   "metadata": {},
   "outputs": [],
   "source": [
    "def deprecated_async(func):\n",
    "    \"\"\"A decorator, that let's us keep our ol API, but deprecate it\"\"\"\n",
    "    def inner(*args, **kwargs):\n",
    "        if 'async' in kwargs:\n",
    "            if 'asynchronous' in kwargs:\n",
    "                raise ValueError('cannot use both async and asynchronous '\n",
    "                                 'keyword arguments! the latter obsoletes the first.')\n",
    "            warnings.warn('async keyword argumnt is deprecated, '\n",
    "                          'use asynchronous instead', DeprecationWarning)\n",
    "            kwargs['asynchronous'] = kwargs.pop('async')\n",
    "        return func(*args, **kwargs)\n",
    "    return inner"
   ]
  },
  {
   "cell_type": "code",
   "execution_count": null,
   "metadata": {},
   "outputs": [],
   "source": [
    "@deprecated_async\n",
    "def awesome_func(foo, bar, asynchronous=False):\n",
    "    \"\"\"Our awesome function that is part of our API.\"\"\"\n",
    "    time.sleep(5)\n",
    "    return f'{foo}, {bar}, {asynchronous}'"
   ]
  },
  {
   "cell_type": "code",
   "execution_count": null,
   "metadata": {},
   "outputs": [],
   "source": [
    "awesome_func(1, 2, async=True)"
   ]
  },
  {
   "cell_type": "code",
   "execution_count": null,
   "metadata": {},
   "outputs": [],
   "source": [
    "awesome_func(1, 2, asynchronous=True)"
   ]
  },
  {
   "cell_type": "code",
   "execution_count": null,
   "metadata": {},
   "outputs": [],
   "source": [
    "awesome_func?"
   ]
  },
  {
   "cell_type": "code",
   "execution_count": null,
   "metadata": {},
   "outputs": [],
   "source": [
    "from functools import wraps"
   ]
  },
  {
   "cell_type": "code",
   "execution_count": null,
   "metadata": {},
   "outputs": [],
   "source": [
    "def deprecated_async(func):\n",
    "    \"\"\"A decorator, that let's us keep our ol API, b ut deprecate it\"\"\"\n",
    "    @wraps(func)\n",
    "    def inner(*args, **kwargs):\n",
    "        if 'async' in kwargs:\n",
    "            if 'asynchronous' in kwargs:\n",
    "                raise ValueError('cannot use both async and asynchronous '\n",
    "                                 'keyword arguments! the latter obsoletes the first.')\n",
    "            warnings.warn('async keyword argumnt is deprecated, '\n",
    "                          'use asynchronous instead', DeprecationWarning)\n",
    "            kwargs['asynchronous'] = kwargs.pop('async')\n",
    "        return func(*args, **kwargs)\n",
    "    return inner"
   ]
  },
  {
   "cell_type": "code",
   "execution_count": null,
   "metadata": {},
   "outputs": [],
   "source": [
    "@deprecated_async\n",
    "def awesome_func(foo, bar, asynchronous=False):\n",
    "    \"\"\"Our awesome function that is part of our API.\"\"\"\n",
    "    time.sleep(5)\n",
    "    return f'{foo}, {bar}, {asynchronous}'"
   ]
  },
  {
   "cell_type": "code",
   "execution_count": null,
   "metadata": {},
   "outputs": [],
   "source": [
    "awesome_func?"
   ]
  },
  {
   "cell_type": "markdown",
   "metadata": {},
   "source": [
    "# Cache it with @functools.lru_cache"
   ]
  },
  {
   "cell_type": "code",
   "execution_count": null,
   "metadata": {},
   "outputs": [],
   "source": [
    "from functools import lru_cache"
   ]
  },
  {
   "cell_type": "code",
   "execution_count": null,
   "metadata": {},
   "outputs": [],
   "source": [
    "@deprecated_async\n",
    "@lru_cache(maxsize=32)\n",
    "def awesome_func(foo, bar, asynchronous=False):\n",
    "    \"\"\"Our awesome function that is part of our API.\"\"\"\n",
    "    time.sleep(5)\n",
    "    return f'{foo}, {bar}, {asynchronous}'"
   ]
  },
  {
   "cell_type": "code",
   "execution_count": null,
   "metadata": {},
   "outputs": [],
   "source": [
    "awesome_func(1, 2, asynchronous=True)"
   ]
  },
  {
   "cell_type": "code",
   "execution_count": null,
   "metadata": {},
   "outputs": [],
   "source": [
    "awesome_func(1, 2, async=True)"
   ]
  },
  {
   "cell_type": "markdown",
   "metadata": {},
   "source": [
    "# Partial functions (shortcuts) with functools.partial"
   ]
  },
  {
   "cell_type": "code",
   "execution_count": null,
   "metadata": {},
   "outputs": [],
   "source": [
    "from functools import partial"
   ]
  },
  {
   "cell_type": "code",
   "execution_count": null,
   "metadata": {},
   "outputs": [],
   "source": [
    "async_awesome_func = partial(awesome_func, asynchronous=True)"
   ]
  },
  {
   "cell_type": "code",
   "execution_count": null,
   "metadata": {},
   "outputs": [],
   "source": [
    "async_awesome_func(1, 2)"
   ]
  },
  {
   "cell_type": "markdown",
   "metadata": {},
   "source": [
    "# “Overload ” functions with @functools.singledispatch"
   ]
  },
  {
   "cell_type": "code",
   "execution_count": null,
   "metadata": {},
   "outputs": [],
   "source": [
    "from functools import singledispatch"
   ]
  },
  {
   "cell_type": "code",
   "execution_count": null,
   "metadata": {},
   "outputs": [],
   "source": [
    "@singledispatch\n",
    "def function(arg):\n",
    "    print(f'Hehe, {arg}!')"
   ]
  },
  {
   "cell_type": "code",
   "execution_count": null,
   "metadata": {},
   "outputs": [],
   "source": [
    "@function.register(int)\n",
    "def _(arg):\n",
    "    print(f'Numbers, huh? {arg}')"
   ]
  },
  {
   "cell_type": "code",
   "execution_count": null,
   "metadata": {},
   "outputs": [],
   "source": [
    "@function.register(list)\n",
    "def _(arg):\n",
    "    function(' '.join(str(i) for i in arg))"
   ]
  },
  {
   "cell_type": "code",
   "execution_count": null,
   "metadata": {},
   "outputs": [],
   "source": [
    "function('aha')"
   ]
  },
  {
   "cell_type": "code",
   "execution_count": null,
   "metadata": {},
   "outputs": [],
   "source": [
    "function(2)"
   ]
  },
  {
   "cell_type": "code",
   "execution_count": null,
   "metadata": {},
   "outputs": [],
   "source": [
    "function([1, 2, 3])"
   ]
  }
 ],
 "metadata": {
  "kernelspec": {
   "display_name": "Python 3",
   "language": "python",
   "name": "python3"
  },
  "language_info": {
   "codemirror_mode": {
    "name": "ipython",
    "version": 3
   },
   "file_extension": ".py",
   "mimetype": "text/x-python",
   "name": "python",
   "nbconvert_exporter": "python",
   "pygments_lexer": "ipython3",
   "version": "3.6.5"
  }
 },
 "nbformat": 4,
 "nbformat_minor": 2
}
