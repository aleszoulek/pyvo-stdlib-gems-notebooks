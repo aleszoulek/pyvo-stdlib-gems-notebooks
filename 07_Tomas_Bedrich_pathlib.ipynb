{
 "cells": [
  {
   "cell_type": "markdown",
   "metadata": {
    "slideshow": {
     "slide_type": "slide"
    }
   },
   "source": [
    "# C:\\keep/calm/and\\use\\pathlib\n",
    "\n",
    "_(aneb TL;DR z PyCon CZ 2016)_\n",
    "\n",
    "by Tomáš Bedřich – [@tbedrich](https://twitter.com/tbedrich) z party [@HeurekaDevs](https://twitter.com/HeurekaDevs)"
   ]
  },
  {
   "cell_type": "markdown",
   "metadata": {
    "slideshow": {
     "slide_type": "slide"
    }
   },
   "source": [
    "# `pathlib`\n",
    "\n",
    "= Objektově orientovaný přístup k cestám"
   ]
  },
  {
   "cell_type": "markdown",
   "metadata": {
    "slideshow": {
     "slide_type": "-"
    }
   },
   "source": [
    "Částečně nebo úplně nahrazuje: `os.path`, `os`, `glob`, `stat`, `posixpath`, `ntpath`"
   ]
  },
  {
   "cell_type": "code",
   "execution_count": 1,
   "metadata": {
    "slideshow": {
     "slide_type": "slide"
    }
   },
   "outputs": [],
   "source": [
    "from pathlib import Path"
   ]
  },
  {
   "cell_type": "code",
   "execution_count": 2,
   "metadata": {
    "slideshow": {
     "slide_type": "-"
    }
   },
   "outputs": [
    {
     "name": "stdout",
     "output_type": "stream",
     "text": [
      ".\n",
      "<class 'pathlib.PosixPath'>\n",
      "xyz/1/2/../3\n"
     ]
    }
   ],
   "source": [
    "aktualni = Path(\".\")\n",
    "neexistujici = Path(\"xyz/1/2/../3\")\n",
    "\n",
    "print(aktualni, type(aktualni), neexistujici, sep=\"\\n\")"
   ]
  },
  {
   "cell_type": "markdown",
   "metadata": {
    "slideshow": {
     "slide_type": "subslide"
    }
   },
   "source": [
    "Navigace"
   ]
  },
  {
   "cell_type": "code",
   "execution_count": 3,
   "metadata": {},
   "outputs": [
    {
     "name": "stdout",
     "output_type": "stream",
     "text": [
      "../..\n",
      "a/b/c\n"
     ]
    }
   ],
   "source": [
    "nadrazeny = aktualni / \"..\" / Path(\"..\")\n",
    "neexistujici = aktualni / \"a/b/c\"\n",
    "\n",
    "print(nadrazeny, neexistujici, sep=\"\\n\")"
   ]
  },
  {
   "cell_type": "markdown",
   "metadata": {
    "slideshow": {
     "slide_type": "subslide"
    }
   },
   "source": [
    "\"Absolutizace\" a vyřazení symlinků"
   ]
  },
  {
   "cell_type": "code",
   "execution_count": 4,
   "metadata": {},
   "outputs": [
    {
     "name": "stdout",
     "output_type": "stream",
     "text": [
      "../..\n",
      "/Users/tomas.bedrich/private\n",
      "a/b/c\n",
      "/Users/tomas.bedrich/private/talks/pyvo-stdlib-gems-notebooks/a/b/c\n"
     ]
    }
   ],
   "source": [
    "print(nadrazeny, nadrazeny.resolve(), neexistujici, neexistujici.resolve(), sep=\"\\n\")"
   ]
  },
  {
   "cell_type": "markdown",
   "metadata": {
    "slideshow": {
     "slide_type": "subslide"
    }
   },
   "source": [
    "Porovnání (pozor na relativní/absolutní!)"
   ]
  },
  {
   "cell_type": "code",
   "execution_count": 5,
   "metadata": {},
   "outputs": [
    {
     "name": "stdout",
     "output_type": "stream",
     "text": [
      "False\n"
     ]
    }
   ],
   "source": [
    "print(Path.home() == nadrazeny)"
   ]
  },
  {
   "cell_type": "markdown",
   "metadata": {
    "slideshow": {
     "slide_type": "subslide"
    }
   },
   "source": [
    "Rozebírání na součástky"
   ]
  },
  {
   "cell_type": "code",
   "execution_count": 6,
   "metadata": {
    "slideshow": {
     "slide_type": "-"
    }
   },
   "outputs": [
    {
     "name": "stdout",
     "output_type": "stream",
     "text": [
      "('/', 'Users', 'tomas.bedrich', '.ssh', 'id_rsa.pub')\n",
      "id_rsa.pub\n",
      "id_rsa\n",
      ".pub\n",
      "/Users/tomas.bedrich/.ssh\n"
     ]
    }
   ],
   "source": [
    "verejny_klic = Path.home() / \".ssh\" / \"id_rsa.pub\"\n",
    "\n",
    "print(verejny_klic.parts)\n",
    "print(verejny_klic.name)\n",
    "print(verejny_klic.stem)\n",
    "print(verejny_klic.suffix)\n",
    "print(verejny_klic.parent)"
   ]
  },
  {
   "cell_type": "markdown",
   "metadata": {
    "slideshow": {
     "slide_type": "subslide"
    }
   },
   "source": [
    "Globbing"
   ]
  },
  {
   "cell_type": "code",
   "execution_count": 7,
   "metadata": {},
   "outputs": [
    {
     "name": "stdout",
     "output_type": "stream",
     "text": [
      "/etc/bashrc_Apple_Terminal\n",
      "/etc/bashrc\n",
      "/etc/bashrc~previous\n"
     ]
    }
   ],
   "source": [
    "for bash_file in Path(\"/etc\").glob(\"**/*bash*\"):\n",
    "    print(bash_file)"
   ]
  },
  {
   "cell_type": "markdown",
   "metadata": {
    "slideshow": {
     "slide_type": "slide"
    }
   },
   "source": [
    "# Čtení / zápis"
   ]
  },
  {
   "cell_type": "markdown",
   "metadata": {
    "slideshow": {
     "slide_type": "-"
    }
   },
   "source": [
    "- `cesta.open(...)`\n",
    "- `cesta.read_text(...)`\n",
    "- `cesta.read_bytes(...)`\n",
    "- `cesta.write_text(...)`\n",
    "- `cesta.write_bytes(...)`"
   ]
  },
  {
   "cell_type": "code",
   "execution_count": 8,
   "metadata": {
    "slideshow": {
     "slide_type": "subslide"
    }
   },
   "outputs": [],
   "source": [
    "soubor = Path(\"./test.txt\")\n",
    "with open(str(soubor), mode=\"w\", encoding=\"utf8\") as f:\n",
    "    f.write(\"text\")"
   ]
  },
  {
   "cell_type": "code",
   "execution_count": 9,
   "metadata": {
    "slideshow": {
     "slide_type": "fragment"
    }
   },
   "outputs": [],
   "source": [
    "soubor = Path(\"./test.txt\")\n",
    "with open(soubor, mode=\"w\", encoding=\"utf8\") as f:  # Python >= 3.6\n",
    "    f.write(\"text\")"
   ]
  },
  {
   "cell_type": "code",
   "execution_count": 10,
   "metadata": {
    "slideshow": {
     "slide_type": "fragment"
    }
   },
   "outputs": [],
   "source": [
    "soubor = Path(\"./test.txt\")\n",
    "with soubor.open(mode=\"w\", encoding=\"utf8\") as f:\n",
    "    f.write(\"text\")"
   ]
  },
  {
   "cell_type": "code",
   "execution_count": 11,
   "metadata": {
    "slideshow": {
     "slide_type": "fragment"
    }
   },
   "outputs": [
    {
     "data": {
      "text/plain": [
       "4"
      ]
     },
     "execution_count": 11,
     "metadata": {},
     "output_type": "execute_result"
    }
   ],
   "source": [
    "soubor = Path(\"./test.txt\")\n",
    "soubor.write_text(\"text\", encoding=\"utf8\")  # Python >= 3.5"
   ]
  },
  {
   "cell_type": "markdown",
   "metadata": {
    "slideshow": {
     "slide_type": "slide"
    }
   },
   "source": [
    "\n",
    "# V praxi\n",
    "\n",
    "Flask: [scripts/flaskext_tester.py](https://github.com/pallets/flask/blob/0664a3f2ddfc227797b5a8f0654e9959b15d9e64/scripts/flaskext_tester.py#L36)"
   ]
  },
  {
   "cell_type": "raw",
   "metadata": {},
   "source": [
    "os.path.abspath(os.path.join(os.path.dirname(__file__), '..'))\n",
    "\n",
    "Path(__file__).resolve().parents[-2]"
   ]
  },
  {
   "cell_type": "markdown",
   "metadata": {
    "slideshow": {
     "slide_type": "slide"
    }
   },
   "source": [
    "# Q&A"
   ]
  }
 ],
 "metadata": {
  "kernelspec": {
   "display_name": "Python 3",
   "language": "python",
   "name": "python3"
  },
  "language_info": {
   "codemirror_mode": {
    "name": "ipython",
    "version": 3
   },
   "file_extension": ".py",
   "mimetype": "text/x-python",
   "name": "python",
   "nbconvert_exporter": "python",
   "pygments_lexer": "ipython3",
   "version": "3.6.5"
  }
 },
 "nbformat": 4,
 "nbformat_minor": 1
}
